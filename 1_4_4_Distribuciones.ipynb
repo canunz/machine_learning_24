{
  "nbformat": 4,
  "nbformat_minor": 0,
  "metadata": {
    "colab": {
      "provenance": [],
      "include_colab_link": true
    },
    "kernelspec": {
      "name": "python3",
      "display_name": "Python 3"
    },
    "language_info": {
      "name": "python"
    }
  },
  "cells": [
    {
      "cell_type": "markdown",
      "metadata": {
        "id": "view-in-github",
        "colab_type": "text"
      },
      "source": [
        "<a href=\"https://colab.research.google.com/github/canunz/machine_learning_24/blob/main/1_4_4_Distribuciones.ipynb\" target=\"_parent\"><img src=\"https://colab.research.google.com/assets/colab-badge.svg\" alt=\"Open In Colab\"/></a>"
      ]
    },
    {
      "cell_type": "markdown",
      "source": [
        "<img src='https://upload.wikimedia.org/wikipedia/commons/thumb/a/aa/Logo_DuocUC.svg/2560px-Logo_DuocUC.svg.png' width=50%, height=20%>"
      ],
      "metadata": {
        "id": "ONvew4vPvmVh"
      }
    },
    {
      "cell_type": "markdown",
      "source": [],
      "metadata": {
        "id": "qC3RYrHlkFtC"
      }
    },
    {
      "cell_type": "code",
      "source": [
        "%matplotlib inline\n",
        "\n",
        "import matplotlib.pyplot as plt\n",
        "import numpy as np\n",
        "from scipy import stats\n",
        "import seaborn as sns\n",
        "\n",
        "np.random.seed(2016) # replicar random\n",
        "\n",
        "# parametros esteticos de seaborn\n",
        "sns.set_palette(\"deep\", desat=.6)\n",
        "sns.set_context(rc={\"figure.figsize\": (8, 4)})"
      ],
      "metadata": {
        "id": "-NpDtDA5m1Zo"
      },
      "execution_count": 1,
      "outputs": []
    },
    {
      "cell_type": "markdown",
      "source": [
        "DATOS : primero generamos una muestra de datos."
      ],
      "metadata": {
        "id": "wB9pSBz0QFQJ"
      }
    },
    {
      "cell_type": "code",
      "source": [
        "# Graficando histograma\n",
        "mu, sigma = 0, 0.2 # media y desvio estandar\n",
        "datos = np.random.normal(mu, sigma, 1000) #creando muestra de datos\n",
        "\n",
        "# histograma de distribución normal.\n",
        "cuenta, cajas, ignorar = plt.hist(datos, 20)\n",
        "plt.ylabel('frequencia')\n",
        "plt.xlabel('valores')\n",
        "plt.title('Histograma')\n",
        "plt.show()"
      ],
      "metadata": {
        "id": "LLF_acwcM_ua",
        "colab": {
          "base_uri": "https://localhost:8080/",
          "height": 472
        },
        "outputId": "96fbc477-8472-4963-f987-36a7296e00fe"
      },
      "execution_count": 2,
      "outputs": [
        {
          "output_type": "display_data",
          "data": {
            "text/plain": [
              "<Figure size 640x480 with 1 Axes>"
            ],
            "image/png": "[encoded data removed]"
          },
          "metadata": {}
        }
      ]
    },
    {
      "cell_type": "markdown",
      "source": [
        "DISTRIBUCIÓN POISSON: La Distribución Poisson describe la probabilidad de encontrar exactamente r eventos en un lapso de tiempo si los acontecimientos se producen de forma independiente a una velocidad constante μ. Es una de las distribuciones más utilizadas en estadística con varias aplicaciones; como por ejemplo describir el número de fallos en un lote de materiales o la cantidad de llegadas por hora a un centro de servicios."
      ],
      "metadata": {
        "id": "g-U8QHOLQVKJ"
      }
    },
    {
      "cell_type": "code",
      "source": [
        "# Graficando Poisson\n",
        "mu =  3.6 # parametro de forma\n",
        "poisson = stats.poisson(mu) # Distribución\n",
        "x = np.arange(poisson.ppf(0.01),\n",
        "              poisson.ppf(0.99))\n",
        "fmp = poisson.pmf(x) # Función de Masa de Probabilidad\n",
        "plt.plot(x, fmp, '--')\n",
        "plt.vlines(x, 0, fmp, colors='b', lw=5, alpha=0.5)\n",
        "plt.title('Distribución Poisson')\n",
        "plt.ylabel('probabilidad')\n",
        "plt.xlabel('valores')\n",
        "plt.show()"
      ],
      "metadata": {
        "id": "5nmrNIhINQ71"
      },
      "execution_count": null,
      "outputs": []
    },
    {
      "cell_type": "code",
      "source": [
        "# histograma\n",
        "aleatorios = poisson.rvs(1000)  # genera aleatorios\n",
        "cuenta, cajas, ignorar = plt.hist(aleatorios, 20)\n",
        "plt.ylabel('frequencia')\n",
        "plt.xlabel('valores')\n",
        "plt.title('Histograma Poisson')\n",
        "plt.show()"
      ],
      "metadata": {
        "id": "kLxr-NdrNWzj"
      },
      "execution_count": null,
      "outputs": []
    },
    {
      "cell_type": "markdown",
      "source": [
        "DISTRIBUCION NOMINAL: La Distribución Binomial describe la probabilidad de exactamente r éxitos en N pruebas si la probabilidad de éxito en una sola prueba es p."
      ],
      "metadata": {
        "id": "-EkyPHKmQhjx"
      }
    },
    {
      "cell_type": "code",
      "source": [
        "# Graficando Binomial\n",
        "N, p = 30, 0.4 # parametros de forma\n",
        "binomial = stats.binom(N, p) # Distribución\n",
        "x = np.arange(binomial.ppf(0.01),\n",
        "              binomial.ppf(0.99))\n",
        "fmp = binomial.pmf(x) # Función de Masa de Probabilidad\n",
        "plt.plot(x, fmp, '--')\n",
        "plt.vlines(x, 0, fmp, colors='b', lw=5, alpha=0.5)\n",
        "plt.title('Distribución Binomial')\n",
        "plt.ylabel('probabilidad')\n",
        "plt.xlabel('valores')\n",
        "plt.show()"
      ],
      "metadata": {
        "id": "YT_vQ8uWNZV-"
      },
      "execution_count": null,
      "outputs": []
    },
    {
      "cell_type": "code",
      "source": [
        "# histograma\n",
        "aleatorios = binomial.rvs(1000)  # genera aleatorios\n",
        "cuenta, cajas, ignorar = plt.hist(aleatorios, 20)\n",
        "plt.ylabel('frequencia')\n",
        "plt.xlabel('valores')\n",
        "plt.title('Histograma Binomial')\n",
        "plt.show()"
      ],
      "metadata": {
        "id": "P57IFRALNbsq"
      },
      "execution_count": null,
      "outputs": []
    },
    {
      "cell_type": "markdown",
      "source": [
        "DISTRIBUCION DE BERNOULLI : La Distribución de Bernoulli describe un experimento probabilístico en donde el ensayo tiene dos posibles resultados, éxito o fracaso."
      ],
      "metadata": {
        "id": "6r9vMvDRQrwX"
      }
    },
    {
      "cell_type": "code",
      "source": [
        "# Graficando Bernoulli\n",
        "p =  0.5 # parametro de forma\n",
        "bernoulli = stats.bernoulli(p)\n",
        "x = np.arange(-1, 3)\n",
        "fmp = bernoulli.pmf(x) # Función de Masa de Probabilidad\n",
        "fig, ax = plt.subplots()\n",
        "ax.plot(x, fmp, 'bo')\n",
        "ax.vlines(x, 0, fmp, colors='b', lw=5, alpha=0.5)\n",
        "ax.set_yticks([0., 0.2, 0.4, 0.6])\n",
        "plt.title('Distribución Bernoulli')\n",
        "plt.ylabel('probabilidad')\n",
        "plt.xlabel('valores')\n",
        "plt.show()"
      ],
      "metadata": {
        "id": "izwYuw-BNqXq"
      },
      "execution_count": null,
      "outputs": []
    },
    {
      "cell_type": "code",
      "source": [
        "# histograma\n",
        "aleatorios = bernoulli.rvs(1000)  # genera aleatorios\n",
        "cuenta, cajas, ignorar = plt.hist(aleatorios, 20)\n",
        "plt.ylabel('frequencia')\n",
        "plt.xlabel('valores')\n",
        "plt.title('Histograma Bernoulli')\n",
        "plt.show()"
      ],
      "metadata": {
        "id": "NUn_pNyUNtNp"
      },
      "execution_count": null,
      "outputs": []
    },
    {
      "cell_type": "markdown",
      "source": [
        "DISTRIBUCION NORMAL: La Distribución Normal, o también llamada Distribución de Gauss, es aplicable a un amplio rango de problemas, lo que la convierte en la distribución más utilizada en estadística.\n",
        "\n",
        "Algunos ejemplos de variables asociadas a fenómenos naturales que siguen el modelo de la Distribución Normal son:\n",
        "\n",
        "características morfológicas de individuos, como la estatura;\n",
        "características sociológicas, como el consumo de cierto producto por un mismo grupo de individuos;\n",
        "características psicológicas, como el cociente intelectual;\n",
        "nivel de ruido en telecomunicaciones;\n",
        "errores cometidos al medir ciertas magnitudes;\n",
        "etc."
      ],
      "metadata": {
        "id": "GS4y9tCFQ-RB"
      }
    },
    {
      "cell_type": "code",
      "source": [
        "# Graficando Normal\n",
        "mu, sigma = 0, 0.2 # media y desvio estandar\n",
        "normal = stats.norm(mu, sigma)\n",
        "x = np.linspace(normal.ppf(0.01),\n",
        "                normal.ppf(0.99), 100)\n",
        "fp = normal.pdf(x) # Función de Probabilidad\n",
        "plt.plot(x, fp)\n",
        "plt.title('Distribución Normal')\n",
        "plt.ylabel('probabilidad')\n",
        "plt.xlabel('valores')\n",
        "plt.show()"
      ],
      "metadata": {
        "id": "uf-T7Ei0NxHy"
      },
      "execution_count": null,
      "outputs": []
    },
    {
      "cell_type": "code",
      "source": [
        "# histograma\n",
        "aleatorios = normal.rvs(1000) # genera aleatorios\n",
        "cuenta, cajas, ignorar = plt.hist(aleatorios, 20)\n",
        "plt.ylabel('frequencia')\n",
        "plt.xlabel('valores')\n",
        "plt.title('Histograma Normal')\n",
        "plt.show()"
      ],
      "metadata": {
        "id": "-r4EyjK7N0ju"
      },
      "execution_count": null,
      "outputs": []
    },
    {
      "cell_type": "markdown",
      "source": [
        "DISTRIBUCION DE PARETO : La Distribución de Pareto se describe a menudo como la base de la regla 80/20. Por ejemplo, el 80% de las quejas de los clientes con respecto al funcionamiento de su vehículo por lo general surgen del 20% de los componentes."
      ],
      "metadata": {
        "id": "ZjeaWG3dRaRI"
      }
    },
    {
      "cell_type": "code",
      "source": [
        "# Graficando Pareto\n",
        "k = 2.3 # parametro de forma.\n",
        "pareto = stats.pareto(k)\n",
        "x = np.linspace(pareto.ppf(0.01),\n",
        "                pareto.ppf(0.99), 100)\n",
        "fp = pareto.pdf(x) # Función de Probabilidad\n",
        "plt.plot(x, fp)\n",
        "plt.title('Distribución de Pareto')\n",
        "plt.ylabel('probabilidad')\n",
        "plt.xlabel('valores')\n",
        "plt.show()"
      ],
      "metadata": {
        "id": "WTmeg61EONwM"
      },
      "execution_count": null,
      "outputs": []
    },
    {
      "cell_type": "code",
      "source": [
        "# histograma\n",
        "aleatorios = pareto.rvs(1000) # genera aleatorios\n",
        "cuenta, cajas, ignorar = plt.hist(aleatorios, 20)\n",
        "plt.ylabel('frequencia')\n",
        "plt.xlabel('valores')\n",
        "plt.title('Histograma de Pareto')\n",
        "plt.show()"
      ],
      "metadata": {
        "id": "fjigaGnCOQV6"
      },
      "execution_count": null,
      "outputs": []
    },
    {
      "cell_type": "markdown",
      "source": [
        "¿POR QUE EXISTEN TANTOS TIPOS DE DISTRIBUCIÓN? ¿COMO ELEGIMOS LA CORRECTA?\n",
        "\n",
        "La primera pregunta que debemos plantearnos es si los datos pueden tomar valores discretos o continuos.\n",
        "\n",
        "La segunda pregunta que nos debemos hacer, hace referencia a la simetría de los datos y si hay asimetría, en qué dirección se encuentra; en otras palabras, son los valores atípicos positivos y negativos igualmente probables o es uno más probable que el otro.\n",
        "\n",
        "La tercera pregunta abarca los límites superiores e inferiores en los datos; hay algunos datos, como los ingresos, que no pueden ser inferiores a cero, mientras que hay otros, como los márgenes de operación que no puede exceder de un valor (100%).\n",
        "\n",
        "La última pregunta se refiere a la posibilidad de observar valores extremos en la distribución; en algunos casos, los valores extremos ocurren con muy poca frecuencia, mientras que en otros, se producen con mayor frecuencia.\n",
        "\n"
      ],
      "metadata": {
        "id": "5o6hNcl8RxCA"
      }
    },
    {
      "cell_type": "markdown",
      "source": [
        "EJERCICIO : analiza estos comentarios, investiga e intenta explicar que aplicaciones tienen las DISTRIBUCIONES DE PROBABILIDAD en MACHINE LEARNING."
      ],
      "metadata": {
        "id": "9U67AAUaSUzX"
      }
    }
  ]
}